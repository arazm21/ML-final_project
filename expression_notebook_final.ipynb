{
 "cells": [
  {
   "cell_type": "markdown",
   "metadata": {
    "id": "view-in-github",
    "colab_type": "text"
   },
   "source": [
    "<a href=\"https://colab.research.google.com/github/arazm21/ML-homework_4/blob/main/expression_notebook_final.ipynb\" target=\"_parent\"><img src=\"https://colab.research.google.com/assets/colab-badge.svg\" alt=\"Open In Colab\"/></a>"
   ],
   "id": "ecb861fb16ad7fed"
  },
  {
   "cell_type": "markdown",
   "source": [
    "# loading the data and organising it"
   ],
   "metadata": {
    "id": "ShlkPaeoBQ3k"
   },
   "id": "ShlkPaeoBQ3k"
  },
  {
   "cell_type": "code",
   "source": [
    "! pip install kaggle\n",
    "from google.colab import drive\n",
    "drive.mount('/content/drive')\n",
    "! mkdir ~/.kaggle\n",
    "!cp /content/drive/MyDrive/ColabNotebooks/kaggle_API_credentials/kaggle.json ~/.kaggle/kaggle.json\n",
    "! chmod 600 ~/.kaggle/kaggle.json\n",
    "! kaggle competitions download -c challenges-in-representation-learning-facial-expression-recognition-challenge\n",
    "! unzip challenges-in-representation-learning-facial-expression-recognition-challenge"
   ],
   "metadata": {
    "collapsed": true,
    "colab": {
     "base_uri": "https://localhost:8080/"
    },
    "id": "dNNvBwljBQFE",
    "outputId": "e78fee55-f892-4a63-f710-3f5bce74527f"
   },
   "id": "dNNvBwljBQFE",
   "execution_count": 1,
   "outputs": [
    {
     "output_type": "stream",
     "name": "stdout",
     "text": [
      "Requirement already satisfied: kaggle in /usr/local/lib/python3.11/dist-packages (1.7.4.5)\n",
      "Requirement already satisfied: bleach in /usr/local/lib/python3.11/dist-packages (from kaggle) (6.2.0)\n",
      "Requirement already satisfied: certifi>=14.05.14 in /usr/local/lib/python3.11/dist-packages (from kaggle) (2025.4.26)\n",
      "Requirement already satisfied: charset-normalizer in /usr/local/lib/python3.11/dist-packages (from kaggle) (3.4.2)\n",
      "Requirement already satisfied: idna in /usr/local/lib/python3.11/dist-packages (from kaggle) (3.10)\n",
      "Requirement already satisfied: protobuf in /usr/local/lib/python3.11/dist-packages (from kaggle) (5.29.5)\n",
      "Requirement already satisfied: python-dateutil>=2.5.3 in /usr/local/lib/python3.11/dist-packages (from kaggle) (2.9.0.post0)\n",
      "Requirement already satisfied: python-slugify in /usr/local/lib/python3.11/dist-packages (from kaggle) (8.0.4)\n",
      "Requirement already satisfied: requests in /usr/local/lib/python3.11/dist-packages (from kaggle) (2.32.3)\n",
      "Requirement already satisfied: setuptools>=21.0.0 in /usr/local/lib/python3.11/dist-packages (from kaggle) (75.2.0)\n",
      "Requirement already satisfied: six>=1.10 in /usr/local/lib/python3.11/dist-packages (from kaggle) (1.17.0)\n",
      "Requirement already satisfied: text-unidecode in /usr/local/lib/python3.11/dist-packages (from kaggle) (1.3)\n",
      "Requirement already satisfied: tqdm in /usr/local/lib/python3.11/dist-packages (from kaggle) (4.67.1)\n",
      "Requirement already satisfied: urllib3>=1.15.1 in /usr/local/lib/python3.11/dist-packages (from kaggle) (2.4.0)\n",
      "Requirement already satisfied: webencodings in /usr/local/lib/python3.11/dist-packages (from kaggle) (0.5.1)\n",
      "Mounted at /content/drive\n",
      "Downloading challenges-in-representation-learning-facial-expression-recognition-challenge.zip to /content\n",
      " 83% 236M/285M [00:00<00:00, 802MB/s] \n",
      "100% 285M/285M [00:00<00:00, 827MB/s]\n",
      "Archive:  challenges-in-representation-learning-facial-expression-recognition-challenge.zip\n",
      "  inflating: example_submission.csv  \n",
      "  inflating: fer2013.tar.gz          \n",
      "  inflating: icml_face_data.csv      \n",
      "  inflating: test.csv                \n",
      "  inflating: train.csv               \n"
     ]
    }
   ]
  },
  {
   "cell_type": "code",
   "source": [
    "!pip install onnx"
   ],
   "metadata": {
    "id": "9fXPkihKllSZ",
    "colab": {
     "base_uri": "https://localhost:8080/"
    },
    "outputId": "1b5c36af-f6f4-4491-ec12-32d60dc2987e"
   },
   "id": "9fXPkihKllSZ",
   "execution_count": 2,
   "outputs": [
    {
     "output_type": "stream",
     "name": "stdout",
     "text": [
      "Collecting onnx\n",
      "  Downloading onnx-1.18.0-cp311-cp311-manylinux_2_17_x86_64.manylinux2014_x86_64.whl.metadata (6.9 kB)\n",
      "Requirement already satisfied: numpy>=1.22 in /usr/local/lib/python3.11/dist-packages (from onnx) (2.0.2)\n",
      "Requirement already satisfied: protobuf>=4.25.1 in /usr/local/lib/python3.11/dist-packages (from onnx) (5.29.5)\n",
      "Requirement already satisfied: typing_extensions>=4.7.1 in /usr/local/lib/python3.11/dist-packages (from onnx) (4.13.2)\n",
      "Downloading onnx-1.18.0-cp311-cp311-manylinux_2_17_x86_64.manylinux2014_x86_64.whl (17.6 MB)\n",
      "\u001B[2K   \u001B[90m━━━━━━━━━━━━━━━━━━━━━━━━━━━━━━━━━━━━━━━━\u001B[0m \u001B[32m17.6/17.6 MB\u001B[0m \u001B[31m50.1 MB/s\u001B[0m eta \u001B[36m0:00:00\u001B[0m\n",
      "\u001B[?25hInstalling collected packages: onnx\n",
      "Successfully installed onnx-1.18.0\n"
     ]
    }
   ]
  },
  {
   "cell_type": "code",
   "source": [
    "import torch # Main PyTorch Library\n",
    "from torch import nn # Used for creating the layers and loss function\n",
    "from torch.optim import Adam # Adam Optimizer\n",
    "import torchvision.transforms as transforms # Transform function used to modify and preprocess all the images\n",
    "from torch.utils.data import Dataset, DataLoader # Dataset class and DataLoader for creating the objects\n",
    "from sklearn.preprocessing import LabelEncoder # Label Encoder to encode the classes from strings to numbers\n",
    "import matplotlib.pyplot as plt # Used for visualizing the images and plotting the training progress\n",
    "from PIL import Image # Used to read the images from the directory\n",
    "import pandas as pd # Used to read/create dataframes (csv) and process tabular data\n",
    "import numpy as np # preprocessing and numerical/mathematical operations\n",
    "import os # Used to read the images path from the directory\n",
    "\n",
    "device = \"cuda\" if torch.cuda.is_available() else \"cpu\" # detect the GPU if any, if not use CPU, change cuda to mps if you have a mac\n",
    "print(\"Device available: \", device)"
   ],
   "metadata": {
    "id": "xib5nVmSLH0o",
    "colab": {
     "base_uri": "https://localhost:8080/"
    },
    "outputId": "98b1a2e2-5a66-4aa6-8cbe-642a0a2cf3c9"
   },
   "id": "xib5nVmSLH0o",
   "execution_count": 3,
   "outputs": [
    {
     "output_type": "stream",
     "name": "stdout",
     "text": [
      "Device available:  cuda\n"
     ]
    }
   ]
  },
  {
   "cell_type": "code",
   "source": [
    "import pandas as pd\n",
    "import torch\n",
    "from torch.utils.data import Dataset, DataLoader\n",
    "from collections import Counter\n",
    "import random\n",
    "import numpy as np\n",
    "from PIL import Image\n",
    "from torchvision import transforms\n",
    "\n",
    "# ─── 1) Augmentations for minority classes ────────────────────────────────────\n",
    "\n",
    "aug_transform = transforms.Compose([\n",
    "    transforms.RandomRotation(10),\n",
    "    transforms.ColorJitter(brightness=0.3, contrast=0.3),\n",
    "    transforms.RandomHorizontalFlip(),\n",
    "    # transforms.RandomAffine(degrees=0, translate=(0.1, 0.1)),\n",
    "    transforms.ToTensor(),  # finally convert to tensor in [0,1]\n",
    "])\n",
    "\n",
    "# ─── 2) Base “no‐transform” behavior ─────────────────────────────────────────\n",
    "\n",
    "class ExpressionDatasetFromDF(Dataset):\n",
    "    def __init__(self, dataframe):\n",
    "        # Expect columns exactly [\"emotion\", \"pixels\", \"Usage\"]\n",
    "        # Each “pixels” entry is a string of “230  19  …”\n",
    "        self.images = dataframe[\" pixels\"].apply(\n",
    "            lambda x: np.fromstring(x, sep=\" \", dtype=np.uint8).reshape(48, 48)\n",
    "        )\n",
    "        # Stack into a (N, 1, 48, 48) float32 tensor in [0,1]\n",
    "        self.images = torch.tensor(\n",
    "            np.stack(self.images.values), dtype=torch.float32\n",
    "        ).unsqueeze(1) / 255.0\n",
    "        self.labels = torch.tensor(dataframe[\"emotion\"].values, dtype=torch.long)\n",
    "\n",
    "    def __len__(self):\n",
    "        return len(self.labels)\n",
    "\n",
    "    def __getitem__(self, idx):\n",
    "        return self.images[idx], self.labels[idx]\n",
    "\n",
    "\n",
    "# ─── 3) Oversampling / augmentation wrapper ──────────────────────────────────\n",
    "\n",
    "class AugmentedExpressionDataset(Dataset):\n",
    "    def __init__(self, base_dataset, targets, num_aug_per_sample=1):\n",
    "        \"\"\"\n",
    "        base_dataset: an ExpressionDatasetFromDF (no transforms applied)\n",
    "        targets: list of ints (same length as base_dataset)\n",
    "        \"\"\"\n",
    "        self.base_dataset = base_dataset\n",
    "        self.targets = targets\n",
    "        self.class_counts = Counter(targets)\n",
    "        self.max_count = max(self.class_counts.values())\n",
    "\n",
    "        # Build a list of “base indices” to duplicate + augment\n",
    "        self.augmented_indices = []\n",
    "        for cls_label, count in self.class_counts.items():\n",
    "            n_to_add = self.max_count - count\n",
    "            if n_to_add <= 0:\n",
    "                continue\n",
    "            # pick with replacement from all indices whose target == cls_label\n",
    "            indices_of_cls = [\n",
    "                i for i, t in enumerate(targets) if t == cls_label\n",
    "            ]\n",
    "            sampled = random.choices(indices_of_cls, k=n_to_add * num_aug_per_sample)\n",
    "            self.augmented_indices.extend(sampled)\n",
    "\n",
    "        print(f\"‣ Base dataset size: {len(self.base_dataset)}\")\n",
    "        print(f\"‣ Augmenting {len(self.augmented_indices)} extra samples to balance classes.\")\n",
    "        print(f\"‣ Resulting dataset size: {len(self.base_dataset) + len(self.augmented_indices)}\")\n",
    "\n",
    "    def __len__(self):\n",
    "        return len(self.base_dataset) + len(self.augmented_indices)\n",
    "\n",
    "    def __getitem__(self, idx):\n",
    "        if idx < len(self.base_dataset):\n",
    "            # no augmentation for the “original” sample\n",
    "            img_tensor, label = self.base_dataset[idx]\n",
    "            return img_tensor, label\n",
    "        else:\n",
    "            # for augmented ones: take the base index, convert back to PIL, augment, then ToTensor\n",
    "            base_idx = self.augmented_indices[idx - len(self.base_dataset)]\n",
    "            img_tensor, label = self.base_dataset[base_idx]\n",
    "            # img_tensor is (1,48,48) float in [0,1]. Convert back to uint8 PIL:\n",
    "            arr_uint8 = (img_tensor.squeeze().numpy() * 255).astype(np.uint8)\n",
    "            pil_img = Image.fromarray(arr_uint8, mode=\"L\")\n",
    "            img_aug = aug_transform(pil_img)  # now a (1,48,48) FloatTensor in [0,1]\n",
    "            return img_aug, label\n",
    "\n",
    "\n",
    "# ─── 4) Revised get_data (no more “slice”) ───────────────────────────────────\n",
    "\n",
    "def get_data(csv_file=\"icml_face_data.csv\", train=True):\n",
    "    \"\"\"\n",
    "    - Reads icml_face_data.csv (which has exactly [\"emotion\",\"pixels\",\"Usage\"]).\n",
    "    - Splits by Usage == \"Training\" vs. \"PublicTest\".\n",
    "    - For train: wraps in AugmentedExpressionDataset. For test/val: returns raw dataset.\n",
    "    \"\"\"\n",
    "    full_df = pd.read_csv(csv_file)\n",
    "\n",
    "    if train:\n",
    "        df_part = full_df[full_df[\" Usage\"] == \"Training\"].reset_index(drop=True)\n",
    "    else:\n",
    "        df_part = full_df[full_df[\" Usage\"] == \"PublicTest\"].reset_index(drop=True)\n",
    "\n",
    "    print(f\"‣ Loaded '{'Training' if train else 'PublicTest'}' => {len(df_part)} samples before augmentation/slicing.\")\n",
    "\n",
    "    base_ds = ExpressionDatasetFromDF(df_part)\n",
    "\n",
    "    if train:\n",
    "        targets = df_part[\"emotion\"].tolist()\n",
    "        balanced_ds = AugmentedExpressionDataset(base_ds, targets)\n",
    "        return balanced_ds\n",
    "    else:\n",
    "        return base_ds\n",
    "\n",
    "\n",
    "def make_loader(dataset, batch_size):\n",
    "    return DataLoader(\n",
    "        dataset=dataset,\n",
    "        batch_size=batch_size,\n",
    "        shuffle=True,\n",
    "        pin_memory=True,\n",
    "        num_workers=1,\n",
    "    )\n"
   ],
   "metadata": {
    "id": "b5Ptu8H4Lzx6"
   },
   "id": "b5Ptu8H4Lzx6",
   "execution_count": 4,
   "outputs": []
  },
  {
   "cell_type": "code",
   "source": [
    "import pandas as pd\n",
    "import torch\n",
    "from torch.utils.data import Dataset, DataLoader\n",
    "from collections import Counter\n",
    "import random\n",
    "import numpy as np\n",
    "from PIL import Image\n",
    "from torchvision import transforms\n",
    "\n",
    "# ─── 1) Augmentations for minority classes ────────────────────────────────────\n",
    "\n",
    "aug_transform = transforms.Compose([\n",
    "    transforms.RandomRotation(20),\n",
    "    transforms.ColorJitter(brightness=0.3, contrast=0.3),\n",
    "    transforms.RandomHorizontalFlip(),\n",
    "    transforms.RandomAffine(degrees=0, translate=(0.1, 0.1)),\n",
    "    transforms.ToTensor(),  # finally convert to tensor in [0,1]\n",
    "])\n",
    "\n",
    "# ─── 2) Base “no‐transform” behavior ─────────────────────────────────────────\n",
    "\n",
    "class ExpressionDatasetFromDF(Dataset):\n",
    "    def __init__(self, dataframe):\n",
    "        # Expect columns exactly [\"emotion\", \"pixels\", \"Usage\"]\n",
    "        # Each “pixels” entry is a string of “230  19  …”\n",
    "        self.images = dataframe[\" pixels\"].apply(\n",
    "            lambda x: np.fromstring(x, sep=\" \", dtype=np.uint8).reshape(48, 48)\n",
    "        )\n",
    "        # Stack into a (N, 1, 48, 48) float32 tensor in [0,1]\n",
    "        self.images = torch.tensor(\n",
    "            np.stack(self.images.values), dtype=torch.float32\n",
    "        ).unsqueeze(1) / 255.0\n",
    "        self.labels = torch.tensor(dataframe[\"emotion\"].values, dtype=torch.long)\n",
    "\n",
    "    def __len__(self):\n",
    "        return len(self.labels)\n",
    "\n",
    "    def __getitem__(self, idx):\n",
    "        return self.images[idx], self.labels[idx]\n",
    "\n",
    "\n",
    "# ─── 3) Oversampling / augmentation wrapper ──────────────────────────────────\n",
    "\n",
    "class AugmentedExpressionDataset(Dataset):\n",
    "    def __init__(self, base_dataset, targets, num_aug_per_sample=1):\n",
    "        \"\"\"\n",
    "        base_dataset: an ExpressionDatasetFromDF (no transforms applied)\n",
    "        targets: list of ints (same length as base_dataset)\n",
    "        \"\"\"\n",
    "        self.base_dataset = base_dataset\n",
    "        self.targets = targets\n",
    "        self.class_counts = Counter(targets)\n",
    "        self.max_count = max(self.class_counts.values())\n",
    "\n",
    "        # Build a list of “base indices” to duplicate + augment\n",
    "        self.augmented_indices = []\n",
    "        for cls_label, count in self.class_counts.items():\n",
    "            n_to_add = self.max_count - count\n",
    "            if n_to_add <= 0:\n",
    "                continue\n",
    "            # pick with replacement from all indices whose target == cls_label\n",
    "            indices_of_cls = [\n",
    "                i for i, t in enumerate(targets) if t == cls_label\n",
    "            ]\n",
    "            sampled = random.choices(indices_of_cls, k=n_to_add * num_aug_per_sample)\n",
    "            self.augmented_indices.extend(sampled)\n",
    "\n",
    "        print(f\"‣ Base dataset size: {len(self.base_dataset)}\")\n",
    "        print(f\"‣ Augmenting {len(self.augmented_indices)} extra samples to balance classes.\")\n",
    "        print(f\"‣ Resulting dataset size: {len(self.base_dataset) + len(self.augmented_indices)}\")\n",
    "\n",
    "    def __len__(self):\n",
    "        return len(self.base_dataset) + len(self.augmented_indices)\n",
    "\n",
    "    def __getitem__(self, idx):\n",
    "        if idx < len(self.base_dataset):\n",
    "            # no augmentation for the “original” sample\n",
    "            img_tensor, label = self.base_dataset[idx]\n",
    "            return img_tensor, label\n",
    "        else:\n",
    "            # for augmented ones: take the base index, convert back to PIL, augment, then ToTensor\n",
    "            base_idx = self.augmented_indices[idx - len(self.base_dataset)]\n",
    "            img_tensor, label = self.base_dataset[base_idx]\n",
    "            # img_tensor is (1,48,48) float in [0,1]. Convert back to uint8 PIL:\n",
    "            arr_uint8 = (img_tensor.squeeze().numpy() * 255).astype(np.uint8)\n",
    "            pil_img = Image.fromarray(arr_uint8, mode=\"L\")\n",
    "            img_aug = aug_transform(pil_img)  # now a (1,48,48) FloatTensor in [0,1]\n",
    "            return img_aug, label\n",
    "\n",
    "\n",
    "# ─── 4) Revised get_data (no more “slice”) ───────────────────────────────────\n",
    "\n",
    "def get_data(csv_file=\"icml_face_data.csv\", train=True, test=False):\n",
    "    \"\"\"\n",
    "    - Reads icml_face_data.csv (which has exactly [\"emotion\",\"pixels\",\"Usage\"]).\n",
    "    - Splits by Usage == \"Training\" vs. \"PublicTest\".\n",
    "    - For train: wraps in AugmentedExpressionDataset. For test/val: returns raw dataset.\n",
    "    \"\"\"\n",
    "    full_df = pd.read_csv(csv_file)\n",
    "\n",
    "    if train:\n",
    "        df_part = full_df[full_df[\" Usage\"] == \"Training\"].reset_index(drop=True)\n",
    "    elif test==False:\n",
    "        df_part = full_df[full_df[\" Usage\"] == \"PublicTest\"].reset_index(drop=True)\n",
    "    else:\n",
    "        df_part = full_df[full_df[\" Usage\"] == \"PrivateTest\"].reset_index(drop=True)\n",
    "    print(f\"‣ Loaded '{'Training' if train else 'PublicTest'}' => {len(df_part)} samples before augmentation/slicing.\")\n",
    "\n",
    "    base_ds = ExpressionDatasetFromDF(df_part)\n",
    "\n",
    "    if train:\n",
    "        targets = df_part[\"emotion\"].tolist()\n",
    "        balanced_ds = AugmentedExpressionDataset(base_ds, targets)\n",
    "        return balanced_ds\n",
    "    else:\n",
    "        return base_ds\n",
    "\n",
    "\n",
    "def make_loader(dataset, batch_size):\n",
    "    return DataLoader(\n",
    "        dataset=dataset,\n",
    "        batch_size=batch_size,\n",
    "        shuffle=True,\n",
    "        pin_memory=True,\n",
    "        num_workers=2,\n",
    "    )\n",
    "\n",
    "\n",
    "# ─── 5) Quick sanity check ───────────────────────────────────────────────────\n",
    "\n",
    "if __name__ == \"__main__\":\n",
    "    # 1) Inspect base “Training” size (should be ~28,709 for FER2013).\n",
    "    train_ds = get_data(csv_file=\"icml_face_data.csv\", train=True)\n",
    "    print(f\"Len of train_ds (after augmentation): {len(train_ds)}\\n\")\n",
    "\n",
    "    # 2) Inspect base “PublicTest” size (should be ~3,589).\n",
    "    val_ds = get_data(csv_file=\"icml_face_data.csv\", train=False)\n",
    "    print(f\"Len of val_ds (no augmentation): {len(val_ds)}\\n\")\n",
    "\n",
    "    # 3) Create DataLoader and confirm iteration count\n",
    "    train_loader = make_loader(train_ds, batch_size=64)\n",
    "    total_seen = sum(len(batch[0]) for batch in train_loader)\n",
    "    print(f\"Total images seen via train_loader: {total_seen}\")\n"
   ],
   "metadata": {
    "id": "D1ye0F1iHqSC",
    "colab": {
     "base_uri": "https://localhost:8080/"
    },
    "outputId": "872887e5-226c-498d-eec5-b5ae5b2d1a12"
   },
   "id": "D1ye0F1iHqSC",
   "execution_count": 16,
   "outputs": [
    {
     "output_type": "stream",
     "name": "stdout",
     "text": [
      "‣ Loaded 'Training' => 28709 samples before augmentation/slicing.\n",
      "‣ Base dataset size: 28709\n",
      "‣ Augmenting 21796 extra samples to balance classes.\n",
      "‣ Resulting dataset size: 50505\n",
      "Len of train_ds (after augmentation): 50505\n",
      "\n",
      "‣ Loaded 'PublicTest' => 3589 samples before augmentation/slicing.\n",
      "Len of val_ds (no augmentation): 3589\n",
      "\n",
      "Total images seen via train_loader: 50505\n"
     ]
    }
   ]
  },
  {
   "cell_type": "markdown",
   "source": [
    "## test that loading was ok"
   ],
   "metadata": {
    "id": "RsFhOzV_PHxI"
   },
   "id": "RsFhOzV_PHxI"
  },
  {
   "cell_type": "code",
   "source": [
    "# Load and create loader\n",
    "dataset = get_data(train=False)\n",
    "loader = make_loader(dataset, batch_size=3)\n",
    "\n",
    "# Get a batch\n",
    "images, labels = next(iter(loader))\n",
    "\n",
    "# Class names from FER2013\n",
    "emotion_names = [\n",
    "    \"Angry\", \"Disgust\", \"Fear\", \"Happy\", \"Sad\", \"Surprise\", \"Neutral\"\n",
    "]\n",
    "\n",
    "# Plot the first 3 images\n",
    "plt.figure(figsize=(10, 4))\n",
    "for i in range(3):\n",
    "    plt.subplot(1, 3, i + 1)\n",
    "    plt.imshow(images[i][0], cmap='gray')\n",
    "    plt.title(f\"Label: {emotion_names[labels[i].item()]}\")\n",
    "    plt.axis('off')\n",
    "plt.tight_layout()\n",
    "plt.show()\n"
   ],
   "metadata": {
    "id": "NvgplaWYHJX6",
    "colab": {
     "base_uri": "https://localhost:8080/",
     "height": 389
    },
    "outputId": "77ad8bbf-4258-4402-8e3a-4ccdb7ec986f"
   },
   "id": "NvgplaWYHJX6",
   "execution_count": 6,
   "outputs": [
    {
     "output_type": "stream",
     "name": "stdout",
     "text": [
      "‣ Loaded 'PublicTest' => 3589 samples before augmentation/slicing.\n"
     ]
    },
    {
     "output_type": "display_data",
     "data": {
      "text/plain": [
       "<Figure size 1000x400 with 3 Axes>"
      ],
      "image/png": "[encoded data removed]"
     },
     "metadata": {}
    }
   ]
  },
  {
   "cell_type": "markdown",
   "source": [
    "# connecting WANDB"
   ],
   "metadata": {
    "id": "XhwXYgieSf7u"
   },
   "id": "XhwXYgieSf7u"
  },
  {
   "cell_type": "code",
   "source": [
    "import os\n",
    "import random\n",
    "\n",
    "import numpy as np\n",
    "import torch\n",
    "import torch.nn as nn\n",
    "import torchvision\n",
    "import torchvision.transforms as transforms\n",
    "from tqdm.auto import tqdm\n",
    "\n",
    "# Ensure deterministic behavior\n",
    "torch.backends.cudnn.deterministic = True\n",
    "random.seed(hash(\"setting random seeds\") % 2**32 - 1)\n",
    "np.random.seed(hash(\"improves reproducibility\") % 2**32 - 1)\n",
    "torch.manual_seed(hash(\"by removing stochasticity\") % 2**32 - 1)\n",
    "torch.cuda.manual_seed_all(hash(\"so runs are repeatable\") % 2**32 - 1)\n",
    "\n",
    "# Device configuration\n",
    "device = torch.device(\"cuda:0\" if torch.cuda.is_available() else \"cpu\")\n"
   ],
   "metadata": {
    "id": "zt2tymF2Se4p"
   },
   "id": "zt2tymF2Se4p",
   "execution_count": 7,
   "outputs": []
  },
  {
   "cell_type": "code",
   "source": [
    "import wandb\n",
    "wandb.login()"
   ],
   "metadata": {
    "id": "l2Op72b3SsY1",
    "colab": {
     "base_uri": "https://localhost:8080/",
     "height": 191
    },
    "outputId": "324856e6-c74c-4701-9bc9-8adcaea1993d"
   },
   "id": "l2Op72b3SsY1",
   "execution_count": 8,
   "outputs": [
    {
     "output_type": "display_data",
     "data": {
      "text/plain": [
       "<IPython.core.display.Javascript object>"
      ],
      "application/javascript": [
       "\n",
       "        window._wandbApiKey = new Promise((resolve, reject) => {\n",
       "            function loadScript(url) {\n",
       "            return new Promise(function(resolve, reject) {\n",
       "                let newScript = document.createElement(\"script\");\n",
       "                newScript.onerror = reject;\n",
       "                newScript.onload = resolve;\n",
       "                document.body.appendChild(newScript);\n",
       "                newScript.src = url;\n",
       "            });\n",
       "            }\n",
       "            loadScript(\"https://cdn.jsdelivr.net/npm/postmate/build/postmate.min.js\").then(() => {\n",
       "            const iframe = document.createElement('iframe')\n",
       "            iframe.style.cssText = \"width:0;height:0;border:none\"\n",
       "            document.body.appendChild(iframe)\n",
       "            const handshake = new Postmate({\n",
       "                container: iframe,\n",
       "                url: 'https://wandb.ai/authorize'\n",
       "            });\n",
       "            const timeout = setTimeout(() => reject(\"Couldn't auto authenticate\"), 5000)\n",
       "            handshake.then(function(child) {\n",
       "                child.on('authorize', data => {\n",
       "                    clearTimeout(timeout)\n",
       "                    resolve(data)\n",
       "                });\n",
       "            });\n",
       "            })\n",
       "        });\n",
       "    "
      ]
     },
     "metadata": {}
    },
    {
     "output_type": "stream",
     "name": "stderr",
     "text": [
      "\u001B[34m\u001B[1mwandb\u001B[0m: Logging into wandb.ai. (Learn how to deploy a W&B server locally: https://wandb.me/wandb-server)\n",
      "\u001B[34m\u001B[1mwandb\u001B[0m: You can find your API key in your browser here: https://wandb.ai/authorize\n",
      "wandb: Paste an API key from your profile and hit enter:"
     ]
    },
    {
     "name": "stdout",
     "output_type": "stream",
     "text": [
      " ··········\n"
     ]
    },
    {
     "output_type": "stream",
     "name": "stderr",
     "text": [
      "\u001B[34m\u001B[1mwandb\u001B[0m: \u001B[33mWARNING\u001B[0m If you're specifying your api key in code, ensure this code is not shared publicly.\n",
      "\u001B[34m\u001B[1mwandb\u001B[0m: \u001B[33mWARNING\u001B[0m Consider setting the WANDB_API_KEY environment variable, or running `wandb login` from the command line.\n",
      "\u001B[34m\u001B[1mwandb\u001B[0m: No netrc file found, creating one.\n",
      "\u001B[34m\u001B[1mwandb\u001B[0m: Appending key for api.wandb.ai to your netrc file: /root/.netrc\n",
      "\u001B[34m\u001B[1mwandb\u001B[0m: Currently logged in as: \u001B[33marazm21\u001B[0m (\u001B[33marazm21-free-university-of-tbilisi-\u001B[0m) to \u001B[32mhttps://api.wandb.ai\u001B[0m. Use \u001B[1m`wandb login --relogin`\u001B[0m to force relogin\n"
     ]
    },
    {
     "output_type": "execute_result",
     "data": {
      "text/plain": [
       "True"
      ]
     },
     "metadata": {},
     "execution_count": 8
    }
   ]
  },
  {
   "cell_type": "markdown",
   "source": [
    "# different attempted architectures"
   ],
   "metadata": {
    "id": "FjvVv9RPXFbN"
   },
   "id": "FjvVv9RPXFbN"
  },
  {
   "cell_type": "markdown",
   "source": [
    "# geting everything ready"
   ],
   "metadata": {
    "id": "zaVbntQmXODJ"
   },
   "id": "zaVbntQmXODJ"
  },
  {
   "cell_type": "code",
   "source": [
    "def make(config):\n",
    "    # Make the data\n",
    "    train_dataset = get_data(train=True)\n",
    "    test_dataset = get_data(train=False)\n",
    "    final_test_dataset = get_data(train=False, test=True)\n",
    "    train_loader = make_loader(train_dataset, batch_size=config.batch_size)\n",
    "    test_loader = make_loader(test_dataset, batch_size=config.batch_size)\n",
    "    final_test_loader = make_loader(final_test_dataset, batch_size=config.batch_size)\n",
    "    # Make the model\n",
    "    model = k(block, [2, 2, 2,2], 1, 7).to(device)\n",
    "    # model = timm.create_model('convit_tiny', pretrained=True, num_classes=7).to(device)\n",
    "    # model = ViT(\n",
    "    #     image_size=48,\n",
    "    #     patch_size=6,\n",
    "    #     num_classes=7,\n",
    "    #     dim=128,          # embedding dimension\n",
    "    #     depth=6,          # number of transformer layers\n",
    "    #     heads=4,          # number of self-attention heads\n",
    "    #     mlp_dim=256,      # hidden dim in the feedforward\n",
    "    #     pool='cls',       # use cls token pooling\n",
    "    #     channels=1,       # grayscale input\n",
    "    #     dim_head=32,      # dimension per attention head\n",
    "    #     dropout=0.1,      # transformer dropout\n",
    "    #     emb_dropout=0.1   # dropout after patch+pos embedding\n",
    "    # ).to(device)\n",
    "    # model = ViT(\n",
    "    #     image_size=48,\n",
    "    #     patch_size=6,\n",
    "    #     num_classes=7,\n",
    "    #     dim=256,          # embedding dim\n",
    "    #     depth=12,          # transformer depth (layers)\n",
    "    #     heads=6,          # number of attention heads\n",
    "    #     mlp_dim=512,      # feedforward hidden layer size\n",
    "    #     pool='cls',       # cls token pooling\n",
    "    #     channels=1,       # grayscale image\n",
    "    #     dim_head=64,      # per-head dimension\n",
    "    #     dropout=0.2,      # transformer dropout\n",
    "    #     emb_dropout=0.1,  # embedding dropout\n",
    "    #     patch_dropout=0.1 # optional patch dropout\n",
    "    # ).to(device)\n",
    "    # model = SimpleViT(\n",
    "    #     num_classes = 7,\n",
    "    #     image_size = 256,\n",
    "    #     patch_size = 8,\n",
    "    #     dim = 1024,\n",
    "    #     depth = 12,\n",
    "    #     heads = 8,\n",
    "    #     mlp_dim = 2048,\n",
    "    #     num_residual_streams = 8\n",
    "    # ).to(device)\n",
    "\n",
    "    # Make the loss and optimizer\n",
    "    criterion = nn.CrossEntropyLoss()\n",
    "    optimizer = torch.optim.Adam(model.parameters(), lr=config.learning_rate, weight_decay=config.weight_decay)\n",
    "\n",
    "    return model, train_loader, test_loader, criterion, optimizer, final_test_loader"
   ],
   "metadata": {
    "id": "4GOnNEKyT1v2"
   },
   "id": "4GOnNEKyT1v2",
   "execution_count": 82,
   "outputs": []
  },
  {
   "cell_type": "code",
   "source": [
    "def train_log(loss, example_ct, epoch):\n",
    "    # Where the magic happens\n",
    "    wandb.log({\"epoch\": epoch, \"loss\": loss}, step=example_ct)\n",
    "    print(f\"Loss after {str(example_ct).zfill(5)} examples: {loss:.3f}\")"
   ],
   "metadata": {
    "id": "Jwbd9gvXUp4R"
   },
   "id": "Jwbd9gvXUp4R",
   "execution_count": 69,
   "outputs": []
  },
  {
   "cell_type": "markdown",
   "source": [
    "## early stop training"
   ],
   "metadata": {
    "id": "6Vih9mc96ns6"
   },
   "id": "6Vih9mc96ns6"
  },
  {
   "cell_type": "code",
   "source": [
    "class EarlyStopping:\n",
    "    def __init__(self, patience=5, min_delta=0.0):\n",
    "        self.patience = patience\n",
    "        self.min_delta = min_delta\n",
    "        self.best_loss = float('inf')\n",
    "        self.counter = 0\n",
    "        self.early_stop = False\n",
    "\n",
    "    def __call__(self, val_loss):\n",
    "        if val_loss < self.best_loss - self.min_delta:\n",
    "            self.best_loss = val_loss\n",
    "            self.counter = 0\n",
    "        else:\n",
    "            self.counter += 1\n",
    "            if self.counter >= self.patience:\n",
    "                self.early_stop = True\n",
    "\n",
    "def validate(model, val_loader, criterion):\n",
    "    model.eval()\n",
    "    total = 0\n",
    "    correct = 0\n",
    "    val_loss = 0.0\n",
    "\n",
    "    with torch.no_grad():\n",
    "        for images, labels in val_loader:\n",
    "            images, labels = images.to(device), labels.to(device)\n",
    "            outputs = model(images)\n",
    "            loss = criterion(outputs, labels)\n",
    "\n",
    "            val_loss += loss.item() * images.size(0)\n",
    "            _, predicted = torch.max(outputs.data, 1)\n",
    "            total += labels.size(0)\n",
    "            correct += (predicted == labels).sum().item()\n",
    "\n",
    "    val_loss /= total\n",
    "    val_acc = correct / total\n",
    "    return val_loss, val_acc\n",
    "\n",
    "def train(model, train_loader, val_loader, criterion, optimizer, config):\n",
    "    wandb.watch(model, criterion, log=\"all\", log_freq=10)\n",
    "\n",
    "    early_stopper = EarlyStopping(patience=15, min_delta=0.001)\n",
    "\n",
    "    example_ct = 0\n",
    "    batch_ct = 0\n",
    "    for epoch in tqdm(range(config.epochs)):\n",
    "        model.train()\n",
    "        running_correct = 0\n",
    "        running_total = 0\n",
    "\n",
    "        for _, (images, labels) in enumerate(train_loader):\n",
    "            loss, batch_correct, batch_total = train_batch(images, labels, model, optimizer, criterion)\n",
    "            example_ct += len(images)\n",
    "            batch_ct += 1\n",
    "\n",
    "            running_correct += batch_correct\n",
    "            running_total += batch_total\n",
    "\n",
    "            if ((batch_ct + 1) % 25) == 0:\n",
    "                train_log(loss, example_ct, epoch)\n",
    "                print(f\"batch number: {batch_ct + 1}\")\n",
    "\n",
    "        train_acc = running_correct / running_total\n",
    "\n",
    "        # ⏱️ Validate at the end of the epoch\n",
    "        val_loss, val_acc = validate(model, val_loader, criterion)\n",
    "        wandb.log({\n",
    "            \"epoch\": epoch,\n",
    "            \"val_loss\": val_loss,\n",
    "            \"val_accuracy\": val_acc,\n",
    "            \"train_accuracy\": train_acc\n",
    "        })\n",
    "        print(f\"Epoch {epoch + 1}: val_loss = {val_loss:.4f}, val_acc = {val_acc:.4f}, train_acc = {train_acc:.4f}\")\n",
    "\n",
    "        # Check early stopping\n",
    "        early_stopper(val_loss)\n",
    "        if early_stopper.early_stop:\n",
    "            print(f\"Early stopping triggered at epoch {epoch + 1}\")\n",
    "            break\n",
    "def train_batch(images, labels, model, optimizer, criterion):\n",
    "    images, labels = images.to(device), labels.to(device)\n",
    "\n",
    "    outputs = model(images)\n",
    "    loss = criterion(outputs, labels)\n",
    "\n",
    "    optimizer.zero_grad()\n",
    "    loss.backward()\n",
    "    optimizer.step()\n",
    "\n",
    "    _, predicted = torch.max(outputs, 1)\n",
    "    correct = (predicted == labels).sum().item()\n",
    "    total = labels.size(0)\n",
    "\n",
    "    return loss, correct, total"
   ],
   "metadata": {
    "id": "2gDrRJB56ihi"
   },
   "id": "2gDrRJB56ihi",
   "execution_count": null,
   "outputs": []
  },
  {
   "cell_type": "markdown",
   "source": [
    "## normal training"
   ],
   "metadata": {
    "id": "Ts0xewao6rsq"
   },
   "id": "Ts0xewao6rsq"
  },
  {
   "cell_type": "code",
   "source": [
    "import torch\n",
    "from tqdm import tqdm\n",
    "import wandb\n",
    "from sklearn.metrics import confusion_matrix, f1_score\n",
    "import matplotlib.pyplot as plt\n",
    "import numpy as np\n",
    "\n",
    "\n",
    "def train(model, train_loader, val_loader, criterion, optimizer, config, class_names= [\"Angry\", \"Disgust\", \"Fear\", \"Happy\", \"Sad\", \"Surprise\", \"Neutral\"]):\n",
    "    # wandb.init(\n",
    "    #     project=\"\",\n",
    "    #     config={\n",
    "    #         \"epochs\": config.epochs,\n",
    "    #         \"batch_size\": train_loader.batch_size,\n",
    "    #         \"optimizer\": optimizer.__class__.__name__,\n",
    "    #         \"lr\": optimizer.param_groups[0][\"lr\"],\n",
    "    #         \"criterion\": criterion.__class__.__name__,\n",
    "    #     }\n",
    "    # )\n",
    "    # wandb.watch(model, log=\"all\", log_freq=100)\n",
    "    model.to(config.device)\n",
    "\n",
    "    train_loss_plot, val_loss_plot = [], []\n",
    "    train_acc_plot, val_acc_plot = [], []\n",
    "\n",
    "    for epoch in range(config.epochs):\n",
    "        # Training\n",
    "        model.train()\n",
    "        total_train_loss, train_correct, train_total = 0.0, 0, 0\n",
    "\n",
    "        for images, labels in tqdm(train_loader, desc=f\"Epoch {epoch + 1} [Train]\"):\n",
    "            images, labels = images.to(config.device), labels.to(config.device)\n",
    "\n",
    "            optimizer.zero_grad()\n",
    "            outputs = model(images)\n",
    "            loss = criterion(outputs, labels)\n",
    "            loss.backward()\n",
    "            optimizer.step()\n",
    "\n",
    "            total_train_loss += loss.item() * images.size(0)\n",
    "            _, predicted = torch.max(outputs.data, 1)\n",
    "            train_total += labels.size(0)\n",
    "            train_correct += (predicted == labels).sum().item()\n",
    "\n",
    "        train_loss = total_train_loss / train_total\n",
    "        train_acc = train_correct / train_total\n",
    "\n",
    "        # Validation\n",
    "        val_loss, val_acc, all_targets, all_preds = validate(model, val_loader, criterion, config.device)\n",
    "\n",
    "        # F1 and Confusion Matrix\n",
    "        cm = confusion_matrix(all_targets, all_preds)\n",
    "        f1_per_class = f1_score(all_targets, all_preds, average=None)\n",
    "\n",
    "        log_data = {\n",
    "            \"epoch\": epoch + 1,\n",
    "            \"train_loss\": train_loss,\n",
    "            \"train_acc\": train_acc,\n",
    "            \"val_loss\": val_loss,\n",
    "            \"val_acc\": val_acc,\n",
    "        }\n",
    "        for i, name in enumerate(class_names):\n",
    "            log_data[f\"f1_{name}\"] = f1_per_class[i]\n",
    "        wandb.log(log_data)\n",
    "\n",
    "        # Confusion matrix image\n",
    "        fig, ax = plt.subplots(figsize=(6,6))\n",
    "        im = ax.imshow(cm, cmap=\"Blues\")\n",
    "        fig.colorbar(im, ax=ax)\n",
    "        ax.set_xticks(np.arange(len(class_names)))\n",
    "        ax.set_yticks(np.arange(len(class_names)))\n",
    "        ax.set_xticklabels(class_names, rotation=45, ha=\"right\")\n",
    "        ax.set_yticklabels(class_names)\n",
    "        for i in range(len(class_names)):\n",
    "            for j in range(len(class_names)):\n",
    "                ax.text(j, i, cm[i, j], ha=\"center\", va=\"center\")\n",
    "        ax.set_title(f\"Confusion Matrix - Epoch {epoch+1}\")\n",
    "        ax.set_xlabel(\"Predicted\")\n",
    "        ax.set_ylabel(\"Actual\")\n",
    "        wandb.log({\"confusion_matrix\": wandb.Image(fig)})\n",
    "        plt.close(fig)\n",
    "\n",
    "        # Store for final plots\n",
    "        train_loss_plot.append(train_loss)\n",
    "        val_loss_plot.append(val_loss)\n",
    "        train_acc_plot.append(train_acc)\n",
    "        val_acc_plot.append(val_acc)\n",
    "\n",
    "        print(f\"Epoch {epoch+1}/{config.epochs}: \"\n",
    "              f\"Train Loss={train_loss:.4f}, Train Acc={train_acc:.4f} | \"\n",
    "              f\"Val Loss={val_loss:.4f}, Val Acc={val_acc:.4f}\")\n",
    "\n",
    "    # Final loss/accuracy curves\n",
    "    epochs_range = list(range(1, config.epochs + 1))\n",
    "\n",
    "    fig1, ax1 = plt.subplots()\n",
    "    ax1.plot(epochs_range, train_loss_plot, label=\"Train Loss\")\n",
    "    ax1.plot(epochs_range, val_loss_plot, label=\"Val Loss\")\n",
    "    ax1.set_title(\"Loss vs Epoch\")\n",
    "    ax1.set_xlabel(\"Epoch\")\n",
    "    ax1.set_ylabel(\"Loss\")\n",
    "    ax1.legend()\n",
    "    wandb.log({\"loss_curve\": wandb.Image(fig1)})\n",
    "    plt.close(fig1)\n",
    "\n",
    "    fig2, ax2 = plt.subplots()\n",
    "    ax2.plot(epochs_range, train_acc_plot, label=\"Train Accuracy\")\n",
    "    ax2.plot(epochs_range, val_acc_plot, label=\"Val Accuracy\")\n",
    "    ax2.set_title(\"Accuracy vs Epoch\")\n",
    "    ax2.set_xlabel(\"Epoch\")\n",
    "    ax2.set_ylabel(\"Accuracy\")\n",
    "    ax2.legend()\n",
    "    wandb.log({\"accuracy_curve\": wandb.Image(fig2)})\n",
    "    plt.close(fig2)\n",
    "\n",
    "    return model\n",
    "\n",
    "def validate(model, val_loader, criterion, device):\n",
    "    model.eval()\n",
    "    val_loss = 0.0\n",
    "    correct, total = 0, 0\n",
    "    all_preds, all_targets = [], []\n",
    "\n",
    "    with torch.no_grad():\n",
    "        for images, labels in val_loader:\n",
    "            images, labels = images.to(device), labels.to(device)\n",
    "            outputs = model(images)\n",
    "            loss = criterion(outputs, labels)\n",
    "\n",
    "            val_loss += loss.item() * images.size(0)\n",
    "            _, predicted = torch.max(outputs.data, 1)\n",
    "            total += labels.size(0)\n",
    "            correct += (predicted == labels).sum().item()\n",
    "\n",
    "            all_preds.extend(predicted.cpu().numpy())\n",
    "            all_targets.extend(labels.cpu().numpy())\n",
    "\n",
    "    avg_val_loss = val_loss / total\n",
    "    val_acc = correct / total\n",
    "    return avg_val_loss, val_acc, all_targets, all_preds\n",
    "\n",
    "import torch\n",
    "from sklearn.metrics import confusion_matrix, f1_score, classification_report\n",
    "import matplotlib.pyplot as plt\n",
    "import seaborn as sns\n",
    "import numpy as np\n",
    "import wandb\n",
    "\n",
    "def test(model, test_loader, device, class_names=None):\n",
    "    model.eval()\n",
    "    correct, total = 0, 0\n",
    "    all_preds, all_targets = [], []\n",
    "    misclassified_images = []\n",
    "\n",
    "    with torch.no_grad():\n",
    "        for images, labels in test_loader:\n",
    "            images, labels = images.to(device), labels.to(device)\n",
    "            outputs = model(images)\n",
    "            _, predicted = torch.max(outputs, 1)\n",
    "\n",
    "            total += labels.size(0)\n",
    "            correct += (predicted == labels).sum().item()\n",
    "\n",
    "            all_preds.extend(predicted.cpu().numpy())\n",
    "            all_targets.extend(labels.cpu().numpy())\n",
    "\n",
    "            # Save misclassified images\n",
    "            mis_mask = (predicted != labels)\n",
    "            mis_imgs = images[mis_mask]\n",
    "            mis_lbls = labels[mis_mask]\n",
    "            mis_preds = predicted[mis_mask]\n",
    "            for img, true_lbl, pred_lbl in zip(mis_imgs, mis_lbls, mis_preds):\n",
    "                misclassified_images.append((img.cpu(), true_lbl.item(), pred_lbl.item()))\n",
    "\n",
    "    acc = correct / total\n",
    "    f1_macro = f1_score(all_targets, all_preds, average=\"macro\")\n",
    "    f1_per_class = f1_score(all_targets, all_preds, average=None)\n",
    "\n",
    "    print(f\"\\nTest Accuracy: {acc:.2%}\")\n",
    "    print(f\"F1 Macro: {f1_macro:.4f}\")\n",
    "    print(\"\\nClassification Report:\\n\", classification_report(all_targets, all_preds, target_names=class_names))\n",
    "\n",
    "    # Log numeric metrics\n",
    "    log_data = {\n",
    "        \"test_accuracy\": acc,\n",
    "        \"test_f1_macro\": f1_macro,\n",
    "    }\n",
    "    if class_names:\n",
    "        for i, name in enumerate(class_names):\n",
    "            log_data[f\"f1_{name}\"] = f1_per_class[i]\n",
    "    wandb.log(log_data)\n",
    "\n",
    "    # Confusion matrix\n",
    "    cm = confusion_matrix(all_targets, all_preds)\n",
    "    fig, ax = plt.subplots(figsize=(8, 6))\n",
    "    sns.heatmap(\n",
    "        cm,\n",
    "        annot=True,\n",
    "        fmt=\"d\",\n",
    "        xticklabels=class_names if class_names else \"auto\",\n",
    "        yticklabels=class_names if class_names else \"auto\",\n",
    "        cmap=\"Blues\"\n",
    "    )\n",
    "    ax.set_xlabel(\"Predicted\")\n",
    "    ax.set_ylabel(\"Actual\")\n",
    "    ax.set_title(\"Confusion Matrix (Test)\")\n",
    "    # wandb.log({\n",
    "    #     \"confusion_matrix_final\": wandb.Image(fig),\n",
    "    #     \"confusion_matrix_raw\": wandb.Table(data=cm.tolist(), columns=class_names, rows=class_names),\n",
    "    # })\n",
    "    plt.close(fig)\n",
    "\n",
    "    wandb.log({\n",
    "    \"confusion_matrix_final\": wandb.Image(fig),\n",
    "    \"confusion_matrix_raw\": wandb.plot.confusion_matrix(\n",
    "        probs=None,\n",
    "        y_true=all_targets,\n",
    "        preds=all_preds,\n",
    "        class_names=class_names if class_names else None\n",
    "    )\n",
    "})\n",
    "    # Log a few misclassified images\n",
    "    if class_names:\n",
    "        wrong_table = wandb.Table(columns=[\"Image\", \"True Label\", \"Predicted Label\"])\n",
    "        for img, true_lbl, pred_lbl in misclassified_images[:25]:\n",
    "            img_np = img.squeeze().numpy()  # assumes grayscale\n",
    "            wrong_table.add_data(\n",
    "                wandb.Image(img_np, caption=f\"Pred: {class_names[pred_lbl]}, GT: {class_names[true_lbl]}\"),\n",
    "                class_names[true_lbl],\n",
    "                class_names[pred_lbl]\n",
    "            )\n",
    "        wandb.log({\"misclassified_samples\": wrong_table})\n",
    "\n",
    "    # Export ONNX\n",
    "    dummy_input = torch.randn(1, *images.shape[1:]).to(device)\n",
    "    torch.onnx.export(model, dummy_input, \"model.onnx\")\n",
    "    wandb.save(\"model.onnx\")\n",
    "\n",
    "    # Optionally log model architecture as a string\n",
    "    model_arch_str = str(model)\n",
    "    wandb.log({\"model_architecture\": wandb.Html(f\"<pre>{model_arch_str}</pre>\")})\n",
    "\n",
    "\n",
    "\n",
    "def Final_test(model, test_loader, device, class_names=None):\n",
    "    model.eval()\n",
    "    correct, total = 0, 0\n",
    "    all_preds, all_targets = [], []\n",
    "    misclassified_images = []\n",
    "\n",
    "    with torch.no_grad():\n",
    "        for images, labels in test_loader:\n",
    "            images, labels = images.to(device), labels.to(device)\n",
    "            outputs = model(images)\n",
    "            _, predicted = torch.max(outputs, 1)\n",
    "\n",
    "            total += labels.size(0)\n",
    "            correct += (predicted == labels).sum().item()\n",
    "\n",
    "            all_preds.extend(predicted.cpu().numpy())\n",
    "            all_targets.extend(labels.cpu().numpy())\n",
    "\n",
    "            # Save misclassified images\n",
    "            mis_mask = (predicted != labels)\n",
    "            mis_imgs = images[mis_mask]\n",
    "            mis_lbls = labels[mis_mask]\n",
    "            mis_preds = predicted[mis_mask]\n",
    "            for img, true_lbl, pred_lbl in zip(mis_imgs, mis_lbls, mis_preds):\n",
    "                misclassified_images.append((img.cpu(), true_lbl.item(), pred_lbl.item()))\n",
    "\n",
    "    acc = correct / total\n",
    "    f1_macro = f1_score(all_targets, all_preds, average=\"macro\")\n",
    "    f1_per_class = f1_score(all_targets, all_preds, average=None)\n",
    "\n",
    "    print(f\"\\nFinal_Test Accuracy: {acc:.2%}\")\n",
    "    print(f\"Final_F1 Macro: {f1_macro:.4f}\")\n",
    "    print(\"\\nFinal_Classification Report:\\n\", classification_report(all_targets, all_preds, target_names=class_names))\n",
    "\n",
    "    # Log numeric metrics\n",
    "    log_data = {\n",
    "        \"Final_test_accuracy\": acc,\n",
    "        \"Final_test_f1_macro\": f1_macro,\n",
    "    }\n",
    "    if class_names:\n",
    "        for i, name in enumerate(class_names):\n",
    "            log_data[f\"f1_{name}\"] = f1_per_class[i]\n",
    "    wandb.log(log_data)\n",
    "\n",
    "    # Confusion matrix\n",
    "    cm = confusion_matrix(all_targets, all_preds)\n",
    "    fig, ax = plt.subplots(figsize=(8, 6))\n",
    "    sns.heatmap(\n",
    "        cm,\n",
    "        annot=True,\n",
    "        fmt=\"d\",\n",
    "        xticklabels=class_names if class_names else \"auto\",\n",
    "        yticklabels=class_names if class_names else \"auto\",\n",
    "        cmap=\"Blues\"\n",
    "    )\n",
    "    ax.set_xlabel(\"Final_Predicted\")\n",
    "    ax.set_ylabel(\"Final_Actual\")\n",
    "    ax.set_title(\"Final_Confusion Matrix (Test)\")\n",
    "    # wandb.log({\n",
    "    #     \"confusion_matrix_final\": wandb.Image(fig),\n",
    "    #     \"confusion_matrix_raw\": wandb.Table(data=cm.tolist(), columns=class_names, rows=class_names),\n",
    "    # })\n",
    "    plt.close(fig)\n",
    "\n",
    "    wandb.log({\n",
    "    \"Final_confusion_matrix_final\": wandb.Image(fig),\n",
    "    \"Final_confusion_matrix_raw\": wandb.plot.confusion_matrix(\n",
    "        probs=None,\n",
    "        y_true=all_targets,\n",
    "        preds=all_preds,\n",
    "        class_names=class_names if class_names else None\n",
    "    )\n",
    "})\n",
    "    # Log a few misclassified images\n",
    "    if class_names:\n",
    "        wrong_table = wandb.Table(columns=[\"Image\", \"True Label\", \"Predicted Label\"])\n",
    "        for img, true_lbl, pred_lbl in misclassified_images[:25]:\n",
    "            img_np = img.squeeze().numpy()  # assumes grayscale\n",
    "            wrong_table.add_data(\n",
    "                wandb.Image(img_np, caption=f\"Pred: {class_names[pred_lbl]}, GT: {class_names[true_lbl]}\"),\n",
    "                class_names[true_lbl],\n",
    "                class_names[pred_lbl]\n",
    "            )\n",
    "        wandb.log({\"Final_misclassified_samples\": wrong_table})\n",
    "\n",
    "    # Export ONNX\n",
    "    dummy_input = torch.randn(1, *images.shape[1:]).to(device)\n",
    "    # torch.onnx.export(model, dummy_input, \"model.onnx\")\n",
    "    # wandb.save(\"model.onnx\")\n",
    "\n",
    "    # Optionally log model architecture as a string\n",
    "    model_arch_str = str(model)\n",
    "    wandb.log({\"Final_model_architecture\": wandb.Html(f\"<pre>{model_arch_str}</pre>\")})"
   ],
   "metadata": {
    "id": "F3VQ1HxlUk6V"
   },
   "id": "F3VQ1HxlUk6V",
   "execution_count": 22,
   "outputs": []
  },
  {
   "cell_type": "markdown",
   "source": [
    "## pipeline"
   ],
   "metadata": {
    "id": "UU0HM605Auy7"
   },
   "id": "UU0HM605Auy7"
  },
  {
   "cell_type": "code",
   "source": [
    "def model_pipeline(hyperparameters):\n",
    "\n",
    "    # tell wandb to get started\n",
    "    with wandb.init(project=\"expression_dataset_final\",\n",
    "                    config=hyperparameters,\n",
    "                    name = \"resnet_og\"):\n",
    "      # access all HPs through wandb.config, so logging matches execution!\n",
    "      config = wandb.config\n",
    "\n",
    "      # make the model, data, and optimization problem\n",
    "      model, train_loader, test_loader, criterion, optimizer, final_test_loader = make(config)\n",
    "      print(model)\n",
    "\n",
    "      # and use them to train the model\n",
    "      # train(model, train_loader, criterion, optimizer, config)\n",
    "      wandb.watch(model, log=\"all\", log_freq=100)\n",
    "      # # and test its final performance\n",
    "      # test(model, test_loader)\n",
    "      train(model, train_loader, test_loader, criterion, optimizer, config)\n",
    "      test(model, test_loader, config.device)  # final test; you can use actual test set here if available\n",
    "      Final_test(model, final_test_loader,config.device)\n",
    "\n",
    "    wandb.finish()\n",
    "    return model"
   ],
   "metadata": {
    "id": "cEsYfYCkUbYw"
   },
   "id": "cEsYfYCkUbYw",
   "execution_count": 70,
   "outputs": []
  },
  {
   "cell_type": "code",
   "source": [
    "config = dict(\n",
    "    epochs=20,\n",
    "    classes=7,\n",
    "    #kernels=[32, 64, 128],\n",
    "    batch_size=256,\n",
    "    learning_rate=.3e-4,\n",
    "    dataset=\"Facial Expression Recognition\",\n",
    "    architecture=\"resnet_og\",\n",
    "    device = device,\n",
    "    weight_decay = 1e-4)"
   ],
   "metadata": {
    "id": "GoXMnqIWY9fa"
   },
   "id": "GoXMnqIWY9fa",
   "execution_count": 83,
   "outputs": []
  },
  {
   "cell_type": "code",
   "source": [
    "total = 0\n",
    "train_dataset = get_data(train=True)\n",
    "test_dataset = get_data(train=False)\n",
    "train_loader = make_loader(train_dataset, batch_size=config['batch_size'])\n",
    "test_loader = make_loader(test_dataset, batch_size=config['batch_size'])\n",
    "for batch in train_loader:\n",
    "    images, labels = batch\n",
    "    total += len(images)\n",
    "# Count class occurrences\n",
    "all_labels = []\n",
    "for _, labels in train_loader:\n",
    "    all_labels.extend(labels.tolist())\n",
    "\n",
    "label_counts = Counter(all_labels)\n",
    "\n",
    "# Print counts\n",
    "print(\"Label distribution in augmented training data:\")\n",
    "for label, count in sorted(label_counts.items()):\n",
    "    print(f\"Class {label}: {count} samples\")\n",
    "\n",
    "# Optional: plot for visual confirmation\n",
    "plt.bar(label_counts.keys(), label_counts.values(), tick_label=[str(i) for i in label_counts.keys()])\n",
    "plt.xlabel('Emotion Class')\n",
    "plt.ylabel('Number of Samples')\n",
    "plt.title('Class Distribution After Augmentation')\n",
    "plt.show()\n",
    "print(f\"Total images seen via train_loader: {total}\")"
   ],
   "metadata": {
    "colab": {
     "base_uri": "https://localhost:8080/",
     "height": 715
    },
    "id": "uTtkeP3VhRZO",
    "outputId": "1a6b68d6-d5b3-4ed5-d260-64f47639f2db"
   },
   "id": "uTtkeP3VhRZO",
   "execution_count": 42,
   "outputs": [
    {
     "output_type": "stream",
     "name": "stdout",
     "text": [
      "‣ Loaded 'Training' => 28709 samples before augmentation/slicing.\n",
      "‣ Base dataset size: 28709\n",
      "‣ Augmenting 21796 extra samples to balance classes.\n",
      "‣ Resulting dataset size: 50505\n",
      "‣ Loaded 'PublicTest' => 3589 samples before augmentation/slicing.\n",
      "Label distribution in augmented training data:\n",
      "Class 0: 7215 samples\n",
      "Class 1: 7215 samples\n",
      "Class 2: 7215 samples\n",
      "Class 3: 7215 samples\n",
      "Class 4: 7215 samples\n",
      "Class 5: 7215 samples\n",
      "Class 6: 7215 samples\n"
     ]
    },
    {
     "output_type": "display_data",
     "data": {
      "text/plain": [
       "<Figure size 640x480 with 1 Axes>"
      ],
      "image/png": "[encoded data removed]"
     },
     "metadata": {}
    },
    {
     "output_type": "stream",
     "name": "stdout",
     "text": [
      "Total images seen via train_loader: 50505\n"
     ]
    }
   ]
  },
  {
   "cell_type": "markdown",
   "source": [
    "# train!"
   ],
   "metadata": {
    "id": "MQvkFnUNxXls"
   },
   "id": "MQvkFnUNxXls"
  },
  {
   "cell_type": "code",
   "source": [
    "model = model_pipeline(config)"
   ],
   "metadata": {
    "colab": {
     "base_uri": "https://localhost:8080/",
     "height": 1000
    },
    "id": "MifXx_iuXfLi",
    "outputId": "7b755ec7-89bb-4462-9bf0-06c1a9b4d19f"
   },
   "id": "MifXx_iuXfLi",
   "execution_count": null,
   "outputs": [
    {
     "output_type": "display_data",
     "data": {
      "text/plain": [
       "<IPython.core.display.HTML object>"
      ],
      "text/html": [
       "Tracking run with wandb version 0.19.11"
      ]
     },
     "metadata": {}
    },
    {
     "output_type": "display_data",
     "data": {
      "text/plain": [
       "<IPython.core.display.HTML object>"
      ],
      "text/html": [
       "Run data is saved locally in <code>/content/wandb/run-20250605_183040-t2g05zn6</code>"
      ]
     },
     "metadata": {}
    },
    {
     "output_type": "display_data",
     "data": {
      "text/plain": [
       "<IPython.core.display.HTML object>"
      ],
      "text/html": [
       "Syncing run <strong><a href='https://wandb.ai/arazm21-free-university-of-tbilisi-/expression_dataset_final/runs/t2g05zn6' target=\"_blank\">resnet_og</a></strong> to <a href='https://wandb.ai/arazm21-free-university-of-tbilisi-/expression_dataset_final' target=\"_blank\">Weights & Biases</a> (<a href='https://wandb.me/developer-guide' target=\"_blank\">docs</a>)<br>"
      ]
     },
     "metadata": {}
    },
    {
     "output_type": "display_data",
     "data": {
      "text/plain": [
       "<IPython.core.display.HTML object>"
      ],
      "text/html": [
       " View project at <a href='https://wandb.ai/arazm21-free-university-of-tbilisi-/expression_dataset_final' target=\"_blank\">https://wandb.ai/arazm21-free-university-of-tbilisi-/expression_dataset_final</a>"
      ]
     },
     "metadata": {}
    },
    {
     "output_type": "display_data",
     "data": {
      "text/plain": [
       "<IPython.core.display.HTML object>"
      ],
      "text/html": [
       " View run at <a href='https://wandb.ai/arazm21-free-university-of-tbilisi-/expression_dataset_final/runs/t2g05zn6' target=\"_blank\">https://wandb.ai/arazm21-free-university-of-tbilisi-/expression_dataset_final/runs/t2g05zn6</a>"
      ]
     },
     "metadata": {}
    },
    {
     "output_type": "stream",
     "name": "stdout",
     "text": [
      "‣ Loaded 'Training' => 28709 samples before augmentation/slicing.\n",
      "‣ Base dataset size: 28709\n",
      "‣ Augmenting 21796 extra samples to balance classes.\n",
      "‣ Resulting dataset size: 50505\n",
      "‣ Loaded 'PublicTest' => 3589 samples before augmentation/slicing.\n",
      "‣ Loaded 'PublicTest' => 3589 samples before augmentation/slicing.\n",
      "ResNet(\n",
      "  (conv1): Conv2d(1, 64, kernel_size=(3, 3), stride=(1, 1), padding=(1, 1), bias=False)\n",
      "  (bn1): BatchNorm2d(64, eps=1e-05, momentum=0.1, affine=True, track_running_stats=True)\n",
      "  (relu): ReLU()\n",
      "  (maxpool): Identity()\n",
      "  (layer1): Sequential(\n",
      "    (0): block(\n",
      "      (conv1): Conv2d(64, 64, kernel_size=(1, 1), stride=(1, 1), bias=False)\n",
      "      (bn1): BatchNorm2d(64, eps=1e-05, momentum=0.1, affine=True, track_running_stats=True)\n",
      "      (conv2): Conv2d(64, 64, kernel_size=(3, 3), stride=(1, 1), padding=(1, 1), bias=False)\n",
      "      (bn2): BatchNorm2d(64, eps=1e-05, momentum=0.1, affine=True, track_running_stats=True)\n",
      "      (conv3): Conv2d(64, 256, kernel_size=(1, 1), stride=(1, 1), bias=False)\n",
      "      (bn3): BatchNorm2d(256, eps=1e-05, momentum=0.1, affine=True, track_running_stats=True)\n",
      "      (relu): ReLU()\n",
      "      (identity_downsample): Sequential(\n",
      "        (0): Conv2d(64, 256, kernel_size=(1, 1), stride=(1, 1), bias=False)\n",
      "        (1): BatchNorm2d(256, eps=1e-05, momentum=0.1, affine=True, track_running_stats=True)\n",
      "      )\n",
      "    )\n",
      "    (1): block(\n",
      "      (conv1): Conv2d(256, 64, kernel_size=(1, 1), stride=(1, 1), bias=False)\n",
      "      (bn1): BatchNorm2d(64, eps=1e-05, momentum=0.1, affine=True, track_running_stats=True)\n",
      "      (conv2): Conv2d(64, 64, kernel_size=(3, 3), stride=(1, 1), padding=(1, 1), bias=False)\n",
      "      (bn2): BatchNorm2d(64, eps=1e-05, momentum=0.1, affine=True, track_running_stats=True)\n",
      "      (conv3): Conv2d(64, 256, kernel_size=(1, 1), stride=(1, 1), bias=False)\n",
      "      (bn3): BatchNorm2d(256, eps=1e-05, momentum=0.1, affine=True, track_running_stats=True)\n",
      "      (relu): ReLU()\n",
      "    )\n",
      "  )\n",
      "  (layer2): Sequential(\n",
      "    (0): block(\n",
      "      (conv1): Conv2d(256, 128, kernel_size=(1, 1), stride=(1, 1), bias=False)\n",
      "      (bn1): BatchNorm2d(128, eps=1e-05, momentum=0.1, affine=True, track_running_stats=True)\n",
      "      (conv2): Conv2d(128, 128, kernel_size=(3, 3), stride=(2, 2), padding=(1, 1), bias=False)\n",
      "      (bn2): BatchNorm2d(128, eps=1e-05, momentum=0.1, affine=True, track_running_stats=True)\n",
      "      (conv3): Conv2d(128, 512, kernel_size=(1, 1), stride=(1, 1), bias=False)\n",
      "      (bn3): BatchNorm2d(512, eps=1e-05, momentum=0.1, affine=True, track_running_stats=True)\n",
      "      (relu): ReLU()\n",
      "      (identity_downsample): Sequential(\n",
      "        (0): Conv2d(256, 512, kernel_size=(1, 1), stride=(2, 2), bias=False)\n",
      "        (1): BatchNorm2d(512, eps=1e-05, momentum=0.1, affine=True, track_running_stats=True)\n",
      "      )\n",
      "    )\n",
      "    (1): block(\n",
      "      (conv1): Conv2d(512, 128, kernel_size=(1, 1), stride=(1, 1), bias=False)\n",
      "      (bn1): BatchNorm2d(128, eps=1e-05, momentum=0.1, affine=True, track_running_stats=True)\n",
      "      (conv2): Conv2d(128, 128, kernel_size=(3, 3), stride=(1, 1), padding=(1, 1), bias=False)\n",
      "      (bn2): BatchNorm2d(128, eps=1e-05, momentum=0.1, affine=True, track_running_stats=True)\n",
      "      (conv3): Conv2d(128, 512, kernel_size=(1, 1), stride=(1, 1), bias=False)\n",
      "      (bn3): BatchNorm2d(512, eps=1e-05, momentum=0.1, affine=True, track_running_stats=True)\n",
      "      (relu): ReLU()\n",
      "    )\n",
      "  )\n",
      "  (layer3): Sequential(\n",
      "    (0): block(\n",
      "      (conv1): Conv2d(512, 256, kernel_size=(1, 1), stride=(1, 1), bias=False)\n",
      "      (bn1): BatchNorm2d(256, eps=1e-05, momentum=0.1, affine=True, track_running_stats=True)\n",
      "      (conv2): Conv2d(256, 256, kernel_size=(3, 3), stride=(2, 2), padding=(1, 1), bias=False)\n",
      "      (bn2): BatchNorm2d(256, eps=1e-05, momentum=0.1, affine=True, track_running_stats=True)\n",
      "      (conv3): Conv2d(256, 1024, kernel_size=(1, 1), stride=(1, 1), bias=False)\n",
      "      (bn3): BatchNorm2d(1024, eps=1e-05, momentum=0.1, affine=True, track_running_stats=True)\n",
      "      (relu): ReLU()\n",
      "      (identity_downsample): Sequential(\n",
      "        (0): Conv2d(512, 1024, kernel_size=(1, 1), stride=(2, 2), bias=False)\n",
      "        (1): BatchNorm2d(1024, eps=1e-05, momentum=0.1, affine=True, track_running_stats=True)\n",
      "      )\n",
      "    )\n",
      "    (1): block(\n",
      "      (conv1): Conv2d(1024, 256, kernel_size=(1, 1), stride=(1, 1), bias=False)\n",
      "      (bn1): BatchNorm2d(256, eps=1e-05, momentum=0.1, affine=True, track_running_stats=True)\n",
      "      (conv2): Conv2d(256, 256, kernel_size=(3, 3), stride=(1, 1), padding=(1, 1), bias=False)\n",
      "      (bn2): BatchNorm2d(256, eps=1e-05, momentum=0.1, affine=True, track_running_stats=True)\n",
      "      (conv3): Conv2d(256, 1024, kernel_size=(1, 1), stride=(1, 1), bias=False)\n",
      "      (bn3): BatchNorm2d(1024, eps=1e-05, momentum=0.1, affine=True, track_running_stats=True)\n",
      "      (relu): ReLU()\n",
      "    )\n",
      "  )\n",
      "  (layer4): Sequential(\n",
      "    (0): block(\n",
      "      (conv1): Conv2d(1024, 512, kernel_size=(1, 1), stride=(1, 1), bias=False)\n",
      "      (bn1): BatchNorm2d(512, eps=1e-05, momentum=0.1, affine=True, track_running_stats=True)\n",
      "      (conv2): Conv2d(512, 512, kernel_size=(3, 3), stride=(2, 2), padding=(1, 1), bias=False)\n",
      "      (bn2): BatchNorm2d(512, eps=1e-05, momentum=0.1, affine=True, track_running_stats=True)\n",
      "      (conv3): Conv2d(512, 2048, kernel_size=(1, 1), stride=(1, 1), bias=False)\n",
      "      (bn3): BatchNorm2d(2048, eps=1e-05, momentum=0.1, affine=True, track_running_stats=True)\n",
      "      (relu): ReLU()\n",
      "      (identity_downsample): Sequential(\n",
      "        (0): Conv2d(1024, 2048, kernel_size=(1, 1), stride=(2, 2), bias=False)\n",
      "        (1): BatchNorm2d(2048, eps=1e-05, momentum=0.1, affine=True, track_running_stats=True)\n",
      "      )\n",
      "    )\n",
      "    (1): block(\n",
      "      (conv1): Conv2d(2048, 512, kernel_size=(1, 1), stride=(1, 1), bias=False)\n",
      "      (bn1): BatchNorm2d(512, eps=1e-05, momentum=0.1, affine=True, track_running_stats=True)\n",
      "      (conv2): Conv2d(512, 512, kernel_size=(3, 3), stride=(1, 1), padding=(1, 1), bias=False)\n",
      "      (bn2): BatchNorm2d(512, eps=1e-05, momentum=0.1, affine=True, track_running_stats=True)\n",
      "      (conv3): Conv2d(512, 2048, kernel_size=(1, 1), stride=(1, 1), bias=False)\n",
      "      (bn3): BatchNorm2d(2048, eps=1e-05, momentum=0.1, affine=True, track_running_stats=True)\n",
      "      (relu): ReLU()\n",
      "    )\n",
      "  )\n",
      "  (avgpool): AdaptiveAvgPool2d(output_size=(1, 1))\n",
      "  (fc): Linear(in_features=2048, out_features=7, bias=True)\n",
      ")\n"
     ]
    },
    {
     "output_type": "stream",
     "name": "stderr",
     "text": [
      "Epoch 1 [Train]: 100%|██████████| 198/198 [04:01<00:00,  1.22s/it]\n"
     ]
    },
    {
     "output_type": "stream",
     "name": "stdout",
     "text": [
      "Epoch 1/20: Train Loss=1.7717, Train Acc=0.2816 | Val Loss=1.7700, Val Acc=0.2965\n"
     ]
    },
    {
     "output_type": "stream",
     "name": "stderr",
     "text": [
      "Epoch 2 [Train]:  41%|████▏     | 82/198 [01:40<02:21,  1.22s/it]"
     ]
    }
   ]
  },
  {
   "cell_type": "code",
   "source": [
    "print(device)"
   ],
   "metadata": {
    "id": "PhusPwNHkvAx",
    "colab": {
     "base_uri": "https://localhost:8080/"
    },
    "outputId": "b62f87b2-f01c-4699-f6d4-2348a2515f19"
   },
   "id": "PhusPwNHkvAx",
   "execution_count": null,
   "outputs": [
    {
     "output_type": "stream",
     "name": "stdout",
     "text": [
      "cuda:0\n"
     ]
    }
   ]
  }
 ],
 "metadata": {
  "kernelspec": {
   "display_name": "Python 3",
   "name": "python3"
  },
  "language_info": {
   "codemirror_mode": {
    "name": "ipython",
    "version": 2
   },
   "file_extension": ".py",
   "mimetype": "text/x-python",
   "name": "python",
   "nbconvert_exporter": "python",
   "pygments_lexer": "ipython2",
   "version": "2.7.6"
  },
  "colab": {
   "provenance": [],
   "gpuType": "T4",
   "include_colab_link": true
  },
  "accelerator": "GPU"
 },
 "nbformat": 4,
 "nbformat_minor": 5
}
